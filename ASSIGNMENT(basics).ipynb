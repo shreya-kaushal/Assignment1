{
 "cells": [
  {
   "cell_type": "code",
   "execution_count": 1,
   "metadata": {},
   "outputs": [
    {
     "name": "stdout",
     "output_type": "stream",
     "text": [
      "23\n",
      "['Hey', 'i', 'am', 'from', 'New', 'Delhi']\n"
     ]
    }
   ],
   "source": [
    "#question1:From this given string: s = \"Hey i am from New Delhi\". Find out: length of string, convert this to list using split operation.\n",
    " \n",
    "s = \"Hey i am from New Delhi\"\n",
    "print(len(s))\n",
    "sp=s.split()\n",
    "print(sp)"
   ]
  },
  {
   "cell_type": "code",
   "execution_count": 2,
   "metadata": {},
   "outputs": [
    {
     "name": "stdout",
     "output_type": "stream",
     "text": [
      "Name is rahul\n",
      "Rame is Rahul\n",
      "NAME IS RAHUL\n"
     ]
    }
   ],
   "source": [
    "#ques2: Given string s = \"name is rahul\". Write code to give following o/p.\n",
    "\n",
    "s = \"name is rahul\"\n",
    "b='N'+s[1:]\n",
    "print(b)\n",
    "c='R'+s[1:8]+'R'+s[9:]\n",
    "print(c)\n",
    "print(s.upper())"
   ]
  },
  {
   "cell_type": "code",
   "execution_count": 3,
   "metadata": {},
   "outputs": [
    {
     "name": "stdout",
     "output_type": "stream",
     "text": [
      "Length= 4\n",
      "Breadth= 5\n",
      "Area=  20\n",
      "Perimeter=  18\n"
     ]
    }
   ],
   "source": [
    "#ques3:Using length and breadth as input find out area and perimeter of a given rectangle.\n",
    "l=int(input(\"Length= \"))\n",
    "b=int(input(\"Breadth= \"))\n",
    "area=l*b\n",
    "print(\"Area= \",area)\n",
    "peri=2*(l+b)\n",
    "print(\"Perimeter= \",peri)"
   ]
  },
  {
   "cell_type": "code",
   "execution_count": 5,
   "metadata": {},
   "outputs": [
    {
     "name": "stdout",
     "output_type": "stream",
     "text": [
      "Diameter= 6\n",
      "Radius= 3.0\n",
      "Area of circle=  28.259999999999998\n",
      "Circumference of circle=  18.84\n"
     ]
    }
   ],
   "source": [
    "#QUES4: Using diameter as input find out circumference and area of a circle.\n",
    "\n",
    "d=float(input(\"Diameter= \"))\n",
    "r=0.5*d\n",
    "print(\"Radius=\",r)\n",
    "PI=3.14\n",
    "area=PI*r*r\n",
    "print(\"Area of circle= \",area)\n",
    "cir=2*PI*r\n",
    "print(\"Circumference of circle= \",cir)"
   ]
  },
  {
   "cell_type": "code",
   "execution_count": 19,
   "metadata": {},
   "outputs": [
    {
     "name": "stdout",
     "output_type": "stream",
     "text": [
      "Enter the Coefficient a : 1\n",
      "Enter the Coefficient b : -7\n",
      "Enter the Coefficient c : 12\n",
      "The Roots of the Quadratic equation :  Alpha =  4.0 Beta =  3.0\n"
     ]
    }
   ],
   "source": [
    "#QUES5:Write a program to compute roots of a quadratic equation when coefficients a, b and c are known(entered by user).\n",
    "import math\n",
    "coffa=float(input(\"Enter the Coefficient a : \"));\n",
    "coffb=float(input(\"Enter the Coefficient b : \"));\n",
    "coffc=float(input(\"Enter the Coefficient c : \"));\n",
    "diss = math.sqrt((coffb**2)-4*coffa*coffc);\n",
    "alpha=(-coffb + diss)/2*coffa;\n",
    "beta=(-coffb - diss)/2*coffa;\n",
    "print(\"The Roots of the Quadratic equation : \", \"Alpha = \",alpha, \"Beta = \",beta);"
   ]
  },
  {
   "cell_type": "markdown",
   "metadata": {},
   "source": []
  },
  {
   "cell_type": "code",
   "execution_count": 9,
   "metadata": {},
   "outputs": [
    {
     "name": "stdout",
     "output_type": "stream",
     "text": [
      "radius= 5\n",
      "Volume of sphere=  522.0250000000001\n"
     ]
    }
   ],
   "source": [
    "#QUES6:Find volume of a sphere using radius as input.\n",
    "\n",
    "r=float(input(\"radius= \"))\n",
    "PI=3.14\n",
    "vol=1.33*PI*r*r*r\n",
    "print(\"Volume of sphere= \",vol)"
   ]
  },
  {
   "cell_type": "code",
   "execution_count": 10,
   "metadata": {},
   "outputs": [
    {
     "name": "stdout",
     "output_type": "stream",
     "text": [
      "Enter the digit:456\n",
      "no of digits are 3\n"
     ]
    }
   ],
   "source": [
    "#QUES7:Count the  number of digits in a number. Example: 3454 has 4 digits.\n",
    "\n",
    "n=int(input(\"Enter the digit:\"))\n",
    "count=0\n",
    "while(n>0):\n",
    " count=count+1\n",
    " n=n//10\n",
    "print(\"no of digits are\",count)"
   ]
  },
  {
   "cell_type": "code",
   "execution_count": 11,
   "metadata": {},
   "outputs": [
    {
     "name": "stdout",
     "output_type": "stream",
     "text": [
      "enter a string= shreya\n",
      "SHREYA\n"
     ]
    }
   ],
   "source": [
    "#QUES8. Write a program that accepts a string and gives output string with all capital letters.\n",
    "\n",
    "s=str(input(\"enter a string= \"))\n",
    "print(s.upper())\n"
   ]
  },
  {
   "cell_type": "code",
   "execution_count": 13,
   "metadata": {},
   "outputs": [
    {
     "name": "stdout",
     "output_type": "stream",
     "text": [
      "Enter String : kaushal\n",
      "Enter Index : 1\n",
      "Enter Character : C\n",
      "k C u s h a l\n"
     ]
    }
   ],
   "source": [
    "#QUES9. Write a program to that accepts a string s, an index number n and a character ‘c’. And outputs the string replaced with the character at the index number n. Example- ‘hello’ , 0 , ‘j’ ==> ‘jello’.\n",
    "\n",
    "s=input(\"Enter String : \")\n",
    "n=int(input(\"Enter Index : \"))\n",
    "c=input(\"Enter Character : \")\n",
    "temp=list(s)\n",
    "temp[n]=c\n",
    "s=\" \".join(temp)\n",
    "print(s)"
   ]
  },
  {
   "cell_type": "code",
   "execution_count": 14,
   "metadata": {},
   "outputs": [
    {
     "name": "stdout",
     "output_type": "stream",
     "text": [
      "erehT yeH\n"
     ]
    }
   ],
   "source": [
    "#Q10. Reverse a string. Example: 'Hey there' = 'ereht yeH'\n",
    "\n",
    "s=\"Hey There\"[::-1]\n",
    "print(s)"
   ]
  },
  {
   "cell_type": "code",
   "execution_count": null,
   "metadata": {},
   "outputs": [],
   "source": []
  }
 ],
 "metadata": {
  "kernelspec": {
   "display_name": "Python 3",
   "language": "python",
   "name": "python3"
  },
  "language_info": {
   "codemirror_mode": {
    "name": "ipython",
    "version": 3
   },
   "file_extension": ".py",
   "mimetype": "text/x-python",
   "name": "python",
   "nbconvert_exporter": "python",
   "pygments_lexer": "ipython3",
   "version": "3.8.3"
  }
 },
 "nbformat": 4,
 "nbformat_minor": 4
}
